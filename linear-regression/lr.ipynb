{
 "cells": [
  {
   "cell_type": "code",
   "execution_count": 1,
   "id": "4b3c251e",
   "metadata": {},
   "outputs": [
    {
     "name": "stdout",
     "output_type": "stream",
     "text": [
      "hello\n"
     ]
    }
   ],
   "source": [
    "print(\"hello\")"
   ]
  },
  {
   "cell_type": "code",
   "execution_count": 12,
   "id": "64b03929",
   "metadata": {},
   "outputs": [
    {
     "name": "stdout",
     "output_type": "stream",
     "text": [
      "\n",
      "Usage:   \n",
      "  /home/ram/Desktop/DeepLearning/env/bin/python -m pip install [options] <requirement specifier> [package-index-options] ...\n",
      "  /home/ram/Desktop/DeepLearning/env/bin/python -m pip install [options] -r <requirements file> [package-index-options] ...\n",
      "  /home/ram/Desktop/DeepLearning/env/bin/python -m pip install [options] [-e] <vcs project url> ...\n",
      "  /home/ram/Desktop/DeepLearning/env/bin/python -m pip install [options] [-e] <local project path> ...\n",
      "  /home/ram/Desktop/DeepLearning/env/bin/python -m pip install [options] <archive url/path> ...\n",
      "\n",
      "no such option: -u\n",
      "Note: you may need to restart the kernel to use updated packages.\n"
     ]
    }
   ],
   "source": [
    "%pip install torch torchvision torchaudio -quit --index-url https://download.pytorch.org/whl/cpu"
   ]
  },
  {
   "cell_type": "code",
   "execution_count": 11,
   "id": "6de95867",
   "metadata": {},
   "outputs": [
    {
     "name": "stdout",
     "output_type": "stream",
     "text": [
      "\n",
      "Usage:   \n",
      "  /home/ram/Desktop/DeepLearning/env/bin/python -m pip install [options] <requirement specifier> [package-index-options] ...\n",
      "  /home/ram/Desktop/DeepLearning/env/bin/python -m pip install [options] -r <requirements file> [package-index-options] ...\n",
      "  /home/ram/Desktop/DeepLearning/env/bin/python -m pip install [options] [-e] <vcs project url> ...\n",
      "  /home/ram/Desktop/DeepLearning/env/bin/python -m pip install [options] [-e] <local project path> ...\n",
      "  /home/ram/Desktop/DeepLearning/env/bin/python -m pip install [options] <archive url/path> ...\n",
      "\n",
      "no such option: -u\n",
      "Note: you may need to restart the kernel to use updated packages.\n"
     ]
    }
   ],
   "source": [
    "%pip install -quit matplotlib"
   ]
  },
  {
   "cell_type": "code",
   "execution_count": 8,
   "id": "97778691",
   "metadata": {},
   "outputs": [
    {
     "name": "stderr",
     "output_type": "stream",
     "text": [
      "Matplotlib is building the font cache; this may take a moment.\n"
     ]
    }
   ],
   "source": [
    "import  torch\n",
    "import torch.nn as nn\n",
    "import numpy as np\n",
    "import matplotlib.pyplot as plt"
   ]
  },
  {
   "cell_type": "code",
   "execution_count": 9,
   "id": "aeb6bd19",
   "metadata": {},
   "outputs": [],
   "source": [
    "\n",
    "x_train = np.array([[3.3], [4.4], [5.5], [6.71], [6.93], [4.168],\n",
    "                    [9.779], [6.182], [7.59], [2.167], [7.042],\n",
    "                    [10.791], [5.313], [7.997], [3.1]], dtype=np.float32)\n",
    "\n",
    "y_train = np.array([[1.7], [2.76], [2.09], [3.19], [1.694], [1.573],\n",
    "                    [3.366], [2.596], [2.53], [1.221], [2.827],\n",
    "                    [3.465], [1.65], [2.904], [1.3]], dtype=np.float32)"
   ]
  },
  {
   "cell_type": "code",
   "execution_count": 10,
   "id": "fb21aeee",
   "metadata": {},
   "outputs": [
    {
     "data": {
      "image/png": "[encoded data removed]",
      "text/plain": [
       "<Figure size 1000x500 with 1 Axes>"
      ]
     },
     "metadata": {},
     "output_type": "display_data"
    }
   ],
   "source": [
    "fig=plt.figure(figsize=(10,5))\n",
    "plt.plot(x_train,y_train,'ro',label='Original Data')\n",
    "plt.xlabel('hours studied')\n",
    "plt.ylabel('Exam Score')\n",
    "plt.legend()\n",
    "plt.title('Exam Score Prediction')\n",
    "plt.show()"
   ]
  },
  {
   "cell_type": "code",
   "execution_count": 13,
   "id": "15be2577",
   "metadata": {},
   "outputs": [
    {
     "data": {
      "text/plain": [
       "(tensor([[ 3.3000],\n",
       "         [ 4.4000],\n",
       "         [ 5.5000],\n",
       "         [ 6.7100],\n",
       "         [ 6.9300],\n",
       "         [ 4.1680],\n",
       "         [ 9.7790],\n",
       "         [ 6.1820],\n",
       "         [ 7.5900],\n",
       "         [ 2.1670],\n",
       "         [ 7.0420],\n",
       "         [10.7910],\n",
       "         [ 5.3130],\n",
       "         [ 7.9970],\n",
       "         [ 3.1000]]),\n",
       " tensor([[1.7000],\n",
       "         [2.7600],\n",
       "         [2.0900],\n",
       "         [3.1900],\n",
       "         [1.6940],\n",
       "         [1.5730],\n",
       "         [3.3660],\n",
       "         [2.5960],\n",
       "         [2.5300],\n",
       "         [1.2210],\n",
       "         [2.8270],\n",
       "         [3.4650],\n",
       "         [1.6500],\n",
       "         [2.9040],\n",
       "         [1.3000]]))"
      ]
     },
     "execution_count": 13,
     "metadata": {},
     "output_type": "execute_result"
    }
   ],
   "source": [
    "x_train=torch.from_numpy(x_train)\n",
    "y_train=torch.from_numpy(y_train)\n",
    "x_train,y_train"
   ]
  },
  {
   "cell_type": "code",
   "execution_count": 14,
   "id": "af38ea7b",
   "metadata": {},
   "outputs": [],
   "source": [
    "class LinearRegression(nn.Module):\n",
    "  def __init__(self):\n",
    "    super().__init__()\n",
    "    self.linear=nn.Linear(1,1)\n",
    "\n",
    "  def forward(self,x):\n",
    "    out=self.linear(x)\n",
    "    return out"
   ]
  },
  {
   "cell_type": "code",
   "execution_count": 16,
   "id": "ce8e09cb",
   "metadata": {},
   "outputs": [
    {
     "data": {
      "text/plain": [
       "LinearRegression(\n",
       "  (linear): Linear(in_features=1, out_features=1, bias=True)\n",
       ")"
      ]
     },
     "execution_count": 16,
     "metadata": {},
     "output_type": "execute_result"
    }
   ],
   "source": [
    "model=LinearRegression()\n",
    "model"
   ]
  },
  {
   "cell_type": "code",
   "execution_count": 25,
   "id": "ca8157c2",
   "metadata": {},
   "outputs": [
    {
     "name": "stdout",
     "output_type": "stream",
     "text": [
      "Epoch [10/100], Loss: 0.1726\n",
      "Epoch [20/100], Loss: 0.1725\n",
      "Epoch [30/100], Loss: 0.1723\n",
      "Epoch [40/100], Loss: 0.1721\n",
      "Epoch [50/100], Loss: 0.1720\n",
      "Epoch [60/100], Loss: 0.1718\n",
      "Epoch [70/100], Loss: 0.1717\n",
      "Epoch [80/100], Loss: 0.1715\n",
      "Epoch [90/100], Loss: 0.1714\n",
      "Epoch [100/100], Loss: 0.1713\n"
     ]
    }
   ],
   "source": [
    "model=LinearRegression()\n",
    "criterion=nn.MSELoss()\n",
    "optimizer=torch.optim.SGD(model.parameters(),lr=0.01)\n",
    "num_epochs=100\n",
    "for epoch in range(num_epochs):\n",
    "    model.train()\n",
    "    outputs=model(x_train)\n",
    "    loss=criterion(outputs,y_train)\n",
    "\n",
    "    optimizer.zero_grad()\n",
    "    loss.backward()\n",
    "    optimizer.step()\n",
    "\n",
    "    if (epoch+1) % 10 == 0:\n",
    "        print(f'Epoch [{epoch+1}/{num_epochs}], Loss: {loss.item():.4f}')\n"
   ]
  },
  {
   "cell_type": "code",
   "execution_count": 24,
   "id": "46f20a1d",
   "metadata": {},
   "outputs": [
    {
     "data": {
      "image/png": "[encoded data removed]",
      "text/plain": [
       "<Figure size 640x480 with 1 Axes>"
      ]
     },
     "metadata": {},
     "output_type": "display_data"
    }
   ],
   "source": [
    "# Plotting the results\n",
    "predicted=model(x_train).detach().numpy()\n",
    "plt.plot(x_train.numpy(), y_train.numpy(), 'ro', label='Original Data')\n",
    "plt.plot(x_train.numpy(), predicted, label='Fitted Line')\n",
    "plt.xlabel('hours studied')\n",
    "plt.ylabel('Exam Score')\n",
    "plt.legend()\n",
    "plt.title('Exam Score Prediction')\n",
    "plt.show()\n"
   ]
  },
  {
   "cell_type": "code",
   "execution_count": 22,
   "id": "116ad059",
   "metadata": {},
   "outputs": [
    {
     "name": "stdout",
     "output_type": "stream",
     "text": [
      "Predictions for test data:\n",
      "Input: 4.0, Predicted Output: 1.5016664266586304\n",
      "Input: 5.0, Predicted Output: 1.8583263158798218\n",
      "Input: 6.0, Predicted Output: 2.2149860858917236\n"
     ]
    }
   ],
   "source": [
    "# Save the model\n",
    "torch.save(model.state_dict(), 'linear_regression_model.pth')\n",
    "# Load the model\n",
    "loaded_model = LinearRegression()\n",
    "loaded_model.load_state_dict(torch.load('linear_regression_model.pth'))\n",
    "# Test the loaded model\n",
    "test_data = torch.tensor([[4.0], [5.0], [6.0]], dtype=torch.float32)\n",
    "predictions = loaded_model(test_data)\n",
    "print(\"Predictions for test data:\")\n",
    "for i, test_point in enumerate(test_data):\n",
    "    print(f\"Input: {test_point.item()}, Predicted Output: {predictions[i].item()}\")\n",
    "# This code demonstrates a simple linear regression model using PyTorch.\n",
    "# It includes data preparation, model training, evaluation, and saving/loading the model.\n",
    "# The model predicts exam scores based on hours studied, and the results are visualized.\n",
    "# The model is trained using stochastic gradient descent and mean squared error loss.\n",
    "# The code also includes a test phase where predictions are made on new data points.\n",
    "# The model is saved to a file and can be loaded later for inference.\n",
    "# The code is structured to be clear and modular, making it easy to understand and modify.\n",
    "# The model is trained for 100 epochs, with loss printed every 10 epochs.\n",
    "# The final plot shows the original data points and the fitted line from the model.\n",
    "# The predictions for test data points are printed to demonstrate the model's inference capability.\n",
    "# The code is designed to be run in a Python environment with PyTorch and Matplotlib installed.\n",
    "# The model can be used for further experiments or as a starting point for more complex regression tasks.\n",
    "# The code is self-contained and does not require any external dependencies beyond PyTorch and Matplotlib.      \n",
    "\n",
    "# The model can be extended or modified for different datasets or regression tasks.\n",
    "# The code is suitable for educational purposes, demonstrating basic concepts of linear regression in machine learning.\n",
    "# The model can be used as a foundation for more advanced machine learning projects.\n",
    "# The code is efficient and leverages PyTorch's capabilities for automatic differentiation and optimization.\n",
    "# The model can be easily adapted for different input features or target variables.         \n",
    "# The code is structured to facilitate understanding of the training process and model evaluation.\n",
    "# The model can be integrated into larger machine learning pipelines or applications.\n",
    "# The code is designed to be modular, allowing for easy updates or changes to the model architecture.\n",
    "# The model can be used for real-world applications where linear relationships are expected.\n",
    "# The code serves as a practical example of implementing linear regression using PyTorch.\n",
    "# The model can be further optimized or tuned for better performance on specific datasets.\n",
    "# The code is a complete example of a linear regression workflow, from data preparation to model evaluation.\n",
    "# The model can be used for educational purposes to teach concepts of regression analysis.\n",
    "# The code is designed to be clear and concise, making it accessible for beginners in machine learning.\n",
    "# The model can be used as a baseline for comparing more complex regression models.\n",
    "# The code is a practical demonstration of using PyTorch for regression tasks.\n",
    "# The model can be extended to include more features or different types of regression.\n",
    "# The code is a good starting point for anyone looking to learn about regression in machine learning.   "
   ]
  },
  {
   "cell_type": "code",
   "execution_count": null,
   "id": "d50f45be",
   "metadata": {},
   "outputs": [],
   "source": []
  }
 ],
 "metadata": {
  "kernelspec": {
   "display_name": "env",
   "language": "python",
   "name": "python3"
  },
  "language_info": {
   "codemirror_mode": {
    "name": "ipython",
    "version": 3
   },
   "file_extension": ".py",
   "mimetype": "text/x-python",
   "name": "python",
   "nbconvert_exporter": "python",
   "pygments_lexer": "ipython3",
   "version": "3.12.3"
  }
 },
 "nbformat": 4,
 "nbformat_minor": 5
}
