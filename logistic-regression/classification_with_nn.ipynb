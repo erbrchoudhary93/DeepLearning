{
 "cells": [
  {
   "cell_type": "code",
   "execution_count": 1,
   "id": "ac12a5cc",
   "metadata": {},
   "outputs": [],
   "source": [
    "import torch\n",
    "import torch.nn as nn\n",
    "from torch.utils.data import DataLoader\n",
    "from torchvision import datasets, transforms\n",
    "import matplotlib.pyplot as plt"
   ]
  },
  {
   "cell_type": "markdown",
   "id": "38d7454e",
   "metadata": {},
   "source": [
    "## create dataset"
   ]
  },
  {
   "cell_type": "code",
   "execution_count": 2,
   "id": "f29414ed",
   "metadata": {},
   "outputs": [],
   "source": [
    "train_dataset = datasets.MNIST(\n",
    "    root='.',\n",
    "    train=True,\n",
    "    download=True,\n",
    "    transform=transforms.Compose([transforms.ToTensor(), transforms.Normalize((0.5,), (0.5,))])\n",
    ")"
   ]
  },
  {
   "cell_type": "code",
   "execution_count": 3,
   "id": "d31719a7",
   "metadata": {},
   "outputs": [],
   "source": [
    "test_dataset = datasets.MNIST(\n",
    "    root='.',\n",
    "    train=False,\n",
    "    download=True,\n",
    "    transform=transforms.Compose([transforms.ToTensor(), transforms.Normalize((0.5,), (0.5,))])\n",
    ")"
   ]
  },
  {
   "cell_type": "code",
   "execution_count": 4,
   "id": "51985aa7",
   "metadata": {},
   "outputs": [
    {
     "name": "stdout",
     "output_type": "stream",
     "text": [
      "60000 10000\n"
     ]
    }
   ],
   "source": [
    "print(len(train_dataset), len(test_dataset))"
   ]
  },
  {
   "cell_type": "code",
   "execution_count": 5,
   "id": "c3abf718",
   "metadata": {},
   "outputs": [
    {
     "name": "stdout",
     "output_type": "stream",
     "text": [
      "938 157\n"
     ]
    }
   ],
   "source": [
    "batch_size = 64\n",
    "\n",
    "train_loader = DataLoader(train_dataset,batch_size=batch_size,shuffle=True)\n",
    "test_loader = DataLoader(test_dataset,batch_size=batch_size,shuffle=False)\n",
    "\n",
    "print(len(train_loader), len(test_loader))"
   ]
  },
  {
   "cell_type": "markdown",
   "id": "d11962d8",
   "metadata": {},
   "source": [
    "## Build network"
   ]
  },
  {
   "cell_type": "code",
   "execution_count": 63,
   "id": "5b58d85b",
   "metadata": {},
   "outputs": [],
   "source": [
    "class NeuralNetwork(nn.Module):\n",
    "    def __init__(self,in_dim,n_hidden_1,n_hiiden_2,out_dim):\n",
    "        super().__init__()\n",
    "        self.layer1 = nn.Sequential(nn.Linear(in_dim,n_hidden_1),nn.ReLU(True))\n",
    "        self.layer2 = nn.Sequential(nn.Linear(n_hidden_1,n_hiiden_2),nn.ReLU(True))\n",
    "        self.layer3 = nn.Sequential(nn.Linear(n_hiiden_2,out_dim),nn.ReLU(True))\n",
    "    def forward(self,x):\n",
    "        x=self.layer1(x)\n",
    "        # print(x.shape)\n",
    "        x=self.layer2(x)\n",
    "        x=self.layer3(x)\n",
    "        return x"
   ]
  },
  {
   "cell_type": "code",
   "execution_count": 64,
   "id": "f850a0ea",
   "metadata": {},
   "outputs": [],
   "source": [
    "in_dim=28*28\n",
    "n_hidden_1= 300\n",
    "n_hidden_2= 100\n",
    "out_dim=10"
   ]
  },
  {
   "cell_type": "code",
   "execution_count": 65,
   "id": "07a4c39e",
   "metadata": {},
   "outputs": [],
   "source": [
    "model=NeuralNetwork(in_dim,n_hidden_1,n_hidden_2,out_dim)"
   ]
  },
  {
   "cell_type": "code",
   "execution_count": 66,
   "id": "3a6e94ef",
   "metadata": {},
   "outputs": [],
   "source": [
    "# model.state_dict()"
   ]
  },
  {
   "cell_type": "code",
   "execution_count": 67,
   "id": "bd4f34a4",
   "metadata": {},
   "outputs": [
    {
     "name": "stdout",
     "output_type": "stream",
     "text": [
      "Using device: cpu\n"
     ]
    }
   ],
   "source": [
    "## Check if CUDA is available and set the device accordingly\n",
    "device = torch.device(\"cuda\" if torch.cuda.is_available() else \"cpu\")\n",
    "# Move the model to the appropriate device\n",
    "print(f\"Using device: {device}\")"
   ]
  },
  {
   "cell_type": "code",
   "execution_count": 68,
   "id": "8aef3651",
   "metadata": {},
   "outputs": [],
   "source": [
    "model =model.to(device)"
   ]
  },
  {
   "cell_type": "code",
   "execution_count": 69,
   "id": "de09ed31",
   "metadata": {},
   "outputs": [],
   "source": [
    "# list(model.parameters())\n"
   ]
  },
  {
   "cell_type": "markdown",
   "id": "60d4cb96",
   "metadata": {},
   "source": [
    "## pic Loss function and Optimizer"
   ]
  },
  {
   "cell_type": "code",
   "execution_count": 74,
   "id": "604d5609",
   "metadata": {},
   "outputs": [],
   "source": [
    "criterion=nn.CrossEntropyLoss()\n",
    "optimizer=torch.optim.Adam(model.parameters(),lr=0.001)"
   ]
  },
  {
   "cell_type": "markdown",
   "id": "5b542931",
   "metadata": {},
   "source": [
    "## Training Loop"
   ]
  },
  {
   "cell_type": "code",
   "execution_count": 75,
   "id": "7da15aec",
   "metadata": {},
   "outputs": [],
   "source": [
    "num_epochs=5"
   ]
  },
  {
   "cell_type": "code",
   "execution_count": 76,
   "id": "93e52617",
   "metadata": {},
   "outputs": [
    {
     "name": "stdout",
     "output_type": "stream",
     "text": [
      "********************\n"
     ]
    },
    {
     "name": "stdout",
     "output_type": "stream",
     "text": [
      "Epoch [1/1], Step [100/938], Loss: 1.2394, Accuracy: 0.5816\n",
      "Epoch [1/1], Step [200/938], Loss: 1.0536, Accuracy: 0.6107\n",
      "Epoch [1/1], Step [300/938], Loss: 0.9723, Accuracy: 0.6206\n",
      "Epoch [1/1], Step [400/938], Loss: 0.8491, Accuracy: 0.6304\n",
      "Epoch [1/1], Step [500/938], Loss: 0.9281, Accuracy: 0.6368\n",
      "Epoch [1/1], Step [600/938], Loss: 0.9686, Accuracy: 0.6398\n",
      "Epoch [1/1], Step [700/938], Loss: 1.0897, Accuracy: 0.6440\n",
      "Epoch [1/1], Step [800/938], Loss: 1.1204, Accuracy: 0.6454\n",
      "Epoch [1/1], Step [900/938], Loss: 0.7794, Accuracy: 0.6473\n",
      "Epoch [1/1] completed in 34.91 seconds, Loss: 0.9538, Accuracy: 0.6478\n"
     ]
    }
   ],
   "source": [
    "# Training loop\n",
    "import time\n",
    "num_epochs = 1\n",
    "for epoch in range(num_epochs):\n",
    "    print(\"*\"*20)\n",
    "    start_time = time.time()\n",
    "    running_loss=0\n",
    "    running_acc=0\n",
    "    model.train()\n",
    "    for i ,data in enumerate(train_loader,1):\n",
    "        images, labels = data\n",
    "        # Flatten the images\n",
    "        images = images.view(images.size(0), -1)  # Flatten the images\n",
    "        images, labels = images.to(device), labels.to(device)        \n",
    "        outputs = model(images)\n",
    "        loss = criterion(outputs, labels)\n",
    "        running_loss += loss.item()\n",
    "        _, predicted = torch.max(outputs.data, 1)\n",
    "        # running_acc += (predicted == labels).sum().item()\n",
    "        running_acc += (predicted == labels).float().mean()\n",
    "        optimizer.zero_grad()\n",
    "        loss.backward()\n",
    "        optimizer.step()\n",
    "        if i % 100 == 0:\n",
    "            print(f\"Epoch [{epoch+1}/{num_epochs}], Step [{i}/{len(train_loader)}], Loss: {loss.item():.4f}, Accuracy: {running_acc / i:.4f}\")\n",
    "    end_time = time.time()\n",
    "    print(f\"Epoch [{epoch+1}/{num_epochs}] completed in {end_time - start_time:.2f} seconds, Loss: {running_loss / len(train_loader):.4f}, Accuracy: {running_acc / len(train_loader):.4f}\")\n"
   ]
  },
  {
   "cell_type": "code",
   "execution_count": 77,
   "id": "a9449fec",
   "metadata": {},
   "outputs": [
    {
     "name": "stdout",
     "output_type": "stream",
     "text": [
      "********************\n",
      "Epoch [1/5], Step [100/938], Loss: 0.8998, Accuracy: 0.6630\n",
      "Epoch [1/5], Step [200/938], Loss: 0.8322, Accuracy: 0.6690\n",
      "Epoch [1/5], Step [300/938], Loss: 0.7223, Accuracy: 0.6741\n",
      "Epoch [1/5], Step [400/938], Loss: 0.9081, Accuracy: 0.6740\n",
      "Epoch [1/5], Step [500/938], Loss: 0.5509, Accuracy: 0.6727\n",
      "Epoch [1/5], Step [600/938], Loss: 1.0350, Accuracy: 0.6737\n",
      "Epoch [1/5], Step [700/938], Loss: 0.6597, Accuracy: 0.6748\n",
      "Epoch [1/5], Step [800/938], Loss: 0.7943, Accuracy: 0.6748\n",
      "Epoch [1/5], Step [900/938], Loss: 0.8649, Accuracy: 0.6756\n",
      "40525 60000\n",
      "Epoch [1/5] completed in 36.83 seconds, Loss: 0.8167, Accuracy: 0.6754\n",
      "Test Loss: 0.799713, Acc: 0.681131\n",
      "Time:41.0 s\n",
      "********************\n",
      "Epoch [2/5], Step [100/938], Loss: 1.0054, Accuracy: 0.6828\n",
      "Epoch [2/5], Step [200/938], Loss: 0.8508, Accuracy: 0.6845\n",
      "Epoch [2/5], Step [300/938], Loss: 0.7745, Accuracy: 0.6835\n",
      "Epoch [2/5], Step [400/938], Loss: 0.8428, Accuracy: 0.6814\n",
      "Epoch [2/5], Step [500/938], Loss: 0.7680, Accuracy: 0.6817\n",
      "Epoch [2/5], Step [600/938], Loss: 0.5710, Accuracy: 0.6820\n",
      "Epoch [2/5], Step [700/938], Loss: 0.7582, Accuracy: 0.6821\n",
      "Epoch [2/5], Step [800/938], Loss: 0.6134, Accuracy: 0.6825\n",
      "Epoch [2/5], Step [900/938], Loss: 0.8833, Accuracy: 0.6820\n",
      "40932 60000\n",
      "Epoch [2/5] completed in 35.50 seconds, Loss: 0.7818, Accuracy: 0.6822\n",
      "Test Loss: 0.778313, Acc: 0.686803\n",
      "Time:39.7 s\n",
      "********************\n",
      "Epoch [3/5], Step [100/938], Loss: 0.4833, Accuracy: 0.6813\n",
      "Epoch [3/5], Step [200/938], Loss: 0.6794, Accuracy: 0.6875\n",
      "Epoch [3/5], Step [300/938], Loss: 1.1665, Accuracy: 0.6859\n",
      "Epoch [3/5], Step [400/938], Loss: 0.6177, Accuracy: 0.6856\n",
      "Epoch [3/5], Step [500/938], Loss: 0.7239, Accuracy: 0.6855\n",
      "Epoch [3/5], Step [600/938], Loss: 0.5149, Accuracy: 0.6855\n",
      "Epoch [3/5], Step [700/938], Loss: 0.9967, Accuracy: 0.6851\n",
      "Epoch [3/5], Step [800/938], Loss: 0.6969, Accuracy: 0.6859\n",
      "Epoch [3/5], Step [900/938], Loss: 0.9254, Accuracy: 0.6856\n",
      "41147 60000\n",
      "Epoch [3/5] completed in 36.01 seconds, Loss: 0.7675, Accuracy: 0.6858\n",
      "Test Loss: 0.755025, Acc: 0.689889\n",
      "Time:40.2 s\n",
      "********************\n",
      "Epoch [4/5], Step [100/938], Loss: 0.7772, Accuracy: 0.6895\n",
      "Epoch [4/5], Step [200/938], Loss: 0.7322, Accuracy: 0.6902\n",
      "Epoch [4/5], Step [300/938], Loss: 0.8940, Accuracy: 0.6873\n",
      "Epoch [4/5], Step [400/938], Loss: 0.8832, Accuracy: 0.6887\n",
      "Epoch [4/5], Step [500/938], Loss: 0.8132, Accuracy: 0.6889\n",
      "Epoch [4/5], Step [600/938], Loss: 0.8477, Accuracy: 0.6897\n",
      "Epoch [4/5], Step [700/938], Loss: 0.8346, Accuracy: 0.6890\n",
      "Epoch [4/5], Step [800/938], Loss: 0.4739, Accuracy: 0.6880\n",
      "Epoch [4/5], Step [900/938], Loss: 0.8509, Accuracy: 0.6887\n",
      "41297 60000\n",
      "Epoch [4/5] completed in 35.39 seconds, Loss: 0.7547, Accuracy: 0.6883\n",
      "Test Loss: 0.788500, Acc: 0.682922\n",
      "Time:39.5 s\n",
      "********************\n",
      "Epoch [5/5], Step [100/938], Loss: 0.5472, Accuracy: 0.6933\n",
      "Epoch [5/5], Step [200/938], Loss: 0.7607, Accuracy: 0.6921\n",
      "Epoch [5/5], Step [300/938], Loss: 0.6393, Accuracy: 0.6897\n",
      "Epoch [5/5], Step [400/938], Loss: 0.6767, Accuracy: 0.6887\n",
      "Epoch [5/5], Step [500/938], Loss: 0.5949, Accuracy: 0.6892\n",
      "Epoch [5/5], Step [600/938], Loss: 0.6161, Accuracy: 0.6912\n",
      "Epoch [5/5], Step [700/938], Loss: 0.6945, Accuracy: 0.6917\n",
      "Epoch [5/5], Step [800/938], Loss: 0.7866, Accuracy: 0.6918\n",
      "Epoch [5/5], Step [900/938], Loss: 0.9205, Accuracy: 0.6908\n",
      "41425 60000\n",
      "Epoch [5/5] completed in 40.22 seconds, Loss: 0.7440, Accuracy: 0.6904\n",
      "Test Loss: 0.749971, Acc: 0.692576\n",
      "Time:45.2 s\n"
     ]
    }
   ],
   "source": [
    "# Training loop\n",
    "num_epochs = 5\n",
    "for epoch in range(num_epochs):\n",
    "    print(\"*\" * 20)\n",
    "    start_time = time.time()\n",
    "    running_loss = 0\n",
    "    total_correct = 0\n",
    "    total_samples = 0\n",
    "\n",
    "    model.train()\n",
    "    for i, data in enumerate(train_loader, 1):\n",
    "        images, labels = data\n",
    "        images = images.view(images.size(0), -1)  # Flatten the images\n",
    "        images, labels = images.to(device), labels.to(device)\n",
    "\n",
    "        outputs = model(images)\n",
    "        # print(outputs, labels.data,outputs.shape)\n",
    "        loss = criterion(outputs, labels)\n",
    "        running_loss += loss.item()\n",
    "\n",
    "        _, predicted = torch.max(outputs, 1)\n",
    "        total_correct += (predicted == labels).sum().item()\n",
    "        total_samples += labels.size(0)\n",
    "        # print(total_correct, total_samples)\n",
    "\n",
    "        optimizer.zero_grad()\n",
    "        loss.backward()\n",
    "        optimizer.step()\n",
    "\n",
    "        if i % 100 == 0:\n",
    "            accuracy = total_correct / total_samples\n",
    "            print(f\"Epoch [{epoch+1}/{num_epochs}], Step [{i}/{len(train_loader)}], \"f\"Loss: {loss.item():.4f}, Accuracy: {accuracy:.4f}\")\n",
    "\n",
    "    end_time = time.time()\n",
    "    # print(f\"Outputs : {outputs}\")\n",
    "    # print(f\"Outputs Data : {outputs.data}\")\n",
    "    print(total_correct, total_samples)\n",
    "    epoch_loss = running_loss / len(train_loader)\n",
    "    epoch_acc = total_correct / total_samples\n",
    "    print(f\"Epoch [{epoch+1}/{num_epochs}] completed in {end_time - start_time:.2f} seconds, \"f\"Loss: {epoch_loss:.4f}, Accuracy: {epoch_acc:.4f}\")\n",
    "    model.eval()  #for checking how good is your model on the test dataset  (for evaluation )\n",
    "    eval_loss = 0.\n",
    "    eval_acc = 0.\n",
    "    # start_time = time.time()\n",
    "    for data in test_loader:\n",
    "        img, label = data\n",
    "        img = img.view(img.size(0), -1)\n",
    "        img=img.to(device)\n",
    "        label=label.to(device)\n",
    "        with torch.no_grad(): # because here we do not need gradients because we are just testing our model,\n",
    "            out = model(img)\n",
    "            loss = criterion(out, label)\n",
    "        eval_loss += loss.item()\n",
    "        _, pred = torch.max(out, 1) #getting prediction from our model for testing the result\n",
    "        eval_acc += (pred == label).float().mean()\n",
    "    print(f'Test Loss: {eval_loss/len(test_loader):.6f}, Acc: {eval_acc/len(test_loader):.6f}')\n",
    "    print(f'Time:{(time.time()-start_time):.1f} s')\n"
   ]
  },
  {
   "cell_type": "code",
   "execution_count": 78,
   "id": "fb97b52e",
   "metadata": {},
   "outputs": [
    {
     "data": {
      "image/png": "[encoded data removed]",
      "text/plain": [
       "<Figure size 1500x300 with 5 Axes>"
      ]
     },
     "metadata": {},
     "output_type": "display_data"
    }
   ],
   "source": [
    "# Visualizing some predictions\n",
    "images, labels = next(iter(test_loader))\n",
    "images = images.reshape(-1, 28*28).to(device)\n",
    "labels = labels.to(device)\n",
    "outputs = model(images)\n",
    "_, predicted = torch.max(outputs, 1)\n",
    "#fig is a reference to the entire figure.\n",
    "#ax is an array of Axes objects, and each Axes object can be used to draw a plot. Since there are 5 subplots, ax contains 5 such objects.\n",
    "#figsize=(15, 3) sets the size of the entire figure to 15 inches wide and 3 inches tall.\n",
    "fig, ax = plt.subplots(1, 5, figsize=(15, 3)) #The arguments (1, 5) specify that the figure should have 1 row of 5 columns, i.e., 5 subplots aligned horizontally.\n",
    "for i in range(5):\n",
    "    ax[i].imshow(images[i].reshape(28, 28).cpu(), cmap='gray')\n",
    "    ax[i].set_title(f'True: {labels[i].item()}, Pred: {predicted[i].item()}')\n",
    "    ax[i].axis('off')\n",
    "plt.show()"
   ]
  },
  {
   "cell_type": "code",
   "execution_count": null,
   "id": "003a0de7",
   "metadata": {},
   "outputs": [],
   "source": []
  }
 ],
 "metadata": {
  "kernelspec": {
   "display_name": "env",
   "language": "python",
   "name": "python3"
  },
  "language_info": {
   "codemirror_mode": {
    "name": "ipython",
    "version": 3
   },
   "file_extension": ".py",
   "mimetype": "text/x-python",
   "name": "python",
   "nbconvert_exporter": "python",
   "pygments_lexer": "ipython3",
   "version": "3.12.3"
  }
 },
 "nbformat": 4,
 "nbformat_minor": 5
}
