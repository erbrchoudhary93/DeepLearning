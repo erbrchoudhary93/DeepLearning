{
 "cells": [
  {
   "cell_type": "code",
   "execution_count": 86,
   "id": "64b03929",
   "metadata": {},
   "outputs": [
    {
     "name": "stdout",
     "output_type": "stream",
     "text": [
      "\n",
      "Usage:   \n",
      "  /home/ram/Desktop/DeepLearning/env/bin/python -m pip install [options] <requirement specifier> [package-index-options] ...\n",
      "  /home/ram/Desktop/DeepLearning/env/bin/python -m pip install [options] -r <requirements file> [package-index-options] ...\n",
      "  /home/ram/Desktop/DeepLearning/env/bin/python -m pip install [options] [-e] <vcs project url> ...\n",
      "  /home/ram/Desktop/DeepLearning/env/bin/python -m pip install [options] [-e] <local project path> ...\n",
      "  /home/ram/Desktop/DeepLearning/env/bin/python -m pip install [options] <archive url/path> ...\n",
      "\n",
      "no such option: -u\n",
      "Note: you may need to restart the kernel to use updated packages.\n",
      "\n",
      "Usage:   \n",
      "  /home/ram/Desktop/DeepLearning/env/bin/python -m pip install [options] <requirement specifier> [package-index-options] ...\n",
      "  /home/ram/Desktop/DeepLearning/env/bin/python -m pip install [options] -r <requirements file> [package-index-options] ...\n",
      "  /home/ram/Desktop/DeepLearning/env/bin/python -m pip install [options] [-e] <vcs project url> ...\n",
      "  /home/ram/Desktop/DeepLearning/env/bin/python -m pip install [options] [-e] <local project path> ...\n",
      "  /home/ram/Desktop/DeepLearning/env/bin/python -m pip install [options] <archive url/path> ...\n",
      "\n",
      "no such option: -u\n",
      "Note: you may need to restart the kernel to use updated packages.\n",
      "\n",
      "Usage:   \n",
      "  /home/ram/Desktop/DeepLearning/env/bin/python -m pip install [options] <requirement specifier> [package-index-options] ...\n",
      "  /home/ram/Desktop/DeepLearning/env/bin/python -m pip install [options] -r <requirements file> [package-index-options] ...\n",
      "  /home/ram/Desktop/DeepLearning/env/bin/python -m pip install [options] [-e] <vcs project url> ...\n",
      "  /home/ram/Desktop/DeepLearning/env/bin/python -m pip install [options] [-e] <local project path> ...\n",
      "  /home/ram/Desktop/DeepLearning/env/bin/python -m pip install [options] <archive url/path> ...\n",
      "\n",
      "no such option: -u\n",
      "Note: you may need to restart the kernel to use updated packages.\n"
     ]
    }
   ],
   "source": [
    "# install required packages for the project\n",
    "\n",
    "%pip install torch torchvision torchaudio -quit --index-url https://download.pytorch.org/whl/cpu\n",
    "%pip install -quit matplotlib\n",
    "%pip install -quit safetensors"
   ]
  },
  {
   "cell_type": "markdown",
   "id": "0478855d",
   "metadata": {},
   "source": [
    "## Import necessary libraries"
   ]
  },
  {
   "cell_type": "code",
   "execution_count": 87,
   "id": "97778691",
   "metadata": {},
   "outputs": [],
   "source": [
    "# Import necessary libraries\n",
    "\n",
    "import  torch\n",
    "import torch.nn as nn\n",
    "import numpy as np\n",
    "import matplotlib.pyplot as plt"
   ]
  },
  {
   "cell_type": "code",
   "execution_count": 88,
   "id": "490190d9",
   "metadata": {},
   "outputs": [
    {
     "name": "stdout",
     "output_type": "stream",
     "text": [
      "2.7.1+cpu\n"
     ]
    }
   ],
   "source": [
    "# check torch version\n",
    "import torch\n",
    "print(torch.__version__)"
   ]
  },
  {
   "cell_type": "markdown",
   "id": "c7ad6c7c",
   "metadata": {},
   "source": [
    "# PyTorch code  device-agnostic "
   ]
  },
  {
   "cell_type": "code",
   "execution_count": 89,
   "id": "4c4407df",
   "metadata": {},
   "outputs": [
    {
     "name": "stdout",
     "output_type": "stream",
     "text": [
      "Using device: cpu\n"
     ]
    }
   ],
   "source": [
    "import torch\n",
    "\n",
    "if torch.cuda.is_available():\n",
    "    device = torch.device(\"cuda\")\n",
    "elif torch.backends.mps.is_available():\n",
    "    device = torch.device(\"mps\")\n",
    "else:\n",
    "    device = torch.device(\"cpu\")\n",
    "print(f\"Using device: {device}\")\n",
    "# Move the model to the appropriate device"
   ]
  },
  {
   "cell_type": "code",
   "execution_count": 90,
   "id": "1b63b804",
   "metadata": {},
   "outputs": [
    {
     "name": "stdout",
     "output_type": "stream",
     "text": [
      "Using device: cpu\n",
      "Using device: cpu\n",
      "Tensor on cpu: tensor([-0.2441,  0.5170, -0.4764,  0.9504,  0.0178, -1.5626,  0.1223,  0.0348,\n",
      "         0.0957, -0.7851])\n"
     ]
    }
   ],
   "source": [
    "\n",
    "\n",
    "\n",
    "## Check if CUDA is available and set the device accordingly\n",
    "device = torch.device(\"cuda\" if torch.cuda.is_available() else \"cpu\")\n",
    "# Move the model to the appropriate device\n",
    "print(f\"Using device: {device}\")\n",
    "\n",
    "\n",
    "# Check if MPS (Metal Performance Shaders) is available for macOS\n",
    "device = torch.device(\"mps\" if torch.backends.mps.is_available() else \"cpu\")\n",
    "print(f\"Using device: {device}\")\n",
    "\n",
    "tensor = torch.randn(10).to(device)\n",
    "print(f\"Tensor on {device}: {tensor}\")\n"
   ]
  },
  {
   "cell_type": "markdown",
   "id": "fb716ca5",
   "metadata": {},
   "source": [
    "## Create dataset"
   ]
  },
  {
   "cell_type": "code",
   "execution_count": 91,
   "id": "aeb6bd19",
   "metadata": {},
   "outputs": [],
   "source": [
    "\n",
    "x_train = np.array([[3.3], [4.4], [5.5], [6.71], [6.93], [4.168],\n",
    "                    [9.779], [6.182], [7.59], [2.167], [7.042],\n",
    "                    [10.791], [5.313], [7.997], [3.1]], dtype=np.float32)\n",
    "\n",
    "y_train = np.array([[1.7], [2.76], [2.09], [3.19], [1.694], [1.573],\n",
    "                    [3.366], [2.596], [2.53], [1.221], [2.827],\n",
    "                    [3.465], [1.65], [2.904], [1.3]], dtype=np.float32)"
   ]
  },
  {
   "cell_type": "code",
   "execution_count": 92,
   "id": "fb21aeee",
   "metadata": {},
   "outputs": [
    {
     "data": {
      "image/png": "[encoded data removed]",
      "text/plain": [
       "<Figure size 1000x500 with 1 Axes>"
      ]
     },
     "metadata": {},
     "output_type": "display_data"
    }
   ],
   "source": [
    "fig=plt.figure(figsize=(10,5))\n",
    "plt.plot(x_train,y_train,'ro',label='Original Data')\n",
    "plt.xlabel('hours studied')\n",
    "plt.ylabel('Exam Score')\n",
    "plt.legend()\n",
    "plt.title('Exam Score Prediction')\n",
    "plt.show()"
   ]
  },
  {
   "cell_type": "code",
   "execution_count": 93,
   "id": "15be2577",
   "metadata": {},
   "outputs": [
    {
     "data": {
      "text/plain": [
       "(tensor([[ 3.3000],\n",
       "         [ 4.4000],\n",
       "         [ 5.5000],\n",
       "         [ 6.7100],\n",
       "         [ 6.9300],\n",
       "         [ 4.1680],\n",
       "         [ 9.7790],\n",
       "         [ 6.1820],\n",
       "         [ 7.5900],\n",
       "         [ 2.1670],\n",
       "         [ 7.0420],\n",
       "         [10.7910],\n",
       "         [ 5.3130],\n",
       "         [ 7.9970],\n",
       "         [ 3.1000]]),\n",
       " tensor([[1.7000],\n",
       "         [2.7600],\n",
       "         [2.0900],\n",
       "         [3.1900],\n",
       "         [1.6940],\n",
       "         [1.5730],\n",
       "         [3.3660],\n",
       "         [2.5960],\n",
       "         [2.5300],\n",
       "         [1.2210],\n",
       "         [2.8270],\n",
       "         [3.4650],\n",
       "         [1.6500],\n",
       "         [2.9040],\n",
       "         [1.3000]]))"
      ]
     },
     "execution_count": 93,
     "metadata": {},
     "output_type": "execute_result"
    }
   ],
   "source": [
    "# Convert numpy arrays to PyTorch tensors\n",
    "\n",
    "x_train=torch.from_numpy(x_train)\n",
    "y_train=torch.from_numpy(y_train)\n",
    "x_train,y_train"
   ]
  },
  {
   "cell_type": "markdown",
   "id": "7269a339",
   "metadata": {},
   "source": [
    "# Define the Linear Regression model"
   ]
  },
  {
   "cell_type": "code",
   "execution_count": 94,
   "id": "af38ea7b",
   "metadata": {},
   "outputs": [],
   "source": [
    "# Define the Linear Regression model\n",
    "\n",
    "class LinearRegression(nn.Module):\n",
    "  def __init__(self):\n",
    "    super().__init__()\n",
    "    self.linear=nn.Linear(1,1)\n",
    "\n",
    "  def forward(self,x):\n",
    "    out=self.linear(x)\n",
    "    return out"
   ]
  },
  {
   "cell_type": "code",
   "execution_count": 95,
   "id": "ce8e09cb",
   "metadata": {},
   "outputs": [
    {
     "data": {
      "text/plain": [
       "LinearRegression(\n",
       "  (linear): Linear(in_features=1, out_features=1, bias=True)\n",
       ")"
      ]
     },
     "execution_count": 95,
     "metadata": {},
     "output_type": "execute_result"
    }
   ],
   "source": [
    "model=LinearRegression()\n",
    "model"
   ]
  },
  {
   "cell_type": "code",
   "execution_count": 96,
   "id": "5551e23e",
   "metadata": {},
   "outputs": [
    {
     "name": "stdout",
     "output_type": "stream",
     "text": [
      "Parameter containing:\n",
      "tensor([[-0.8927]], requires_grad=True)\n",
      "Parameter containing:\n",
      "tensor([0.8411], requires_grad=True)\n"
     ]
    }
   ],
   "source": [
    "model.parameters()\n",
    "for param in model.parameters():\n",
    "  print(param)"
   ]
  },
  {
   "cell_type": "code",
   "execution_count": 97,
   "id": "c169f11d",
   "metadata": {},
   "outputs": [
    {
     "data": {
      "text/plain": [
       "[Parameter containing:\n",
       " tensor([[-0.8927]], requires_grad=True),\n",
       " Parameter containing:\n",
       " tensor([0.8411], requires_grad=True)]"
      ]
     },
     "execution_count": 97,
     "metadata": {},
     "output_type": "execute_result"
    }
   ],
   "source": [
    "list(model.parameters())\n",
    "     "
   ]
  },
  {
   "cell_type": "code",
   "execution_count": 98,
   "id": "964e16ef",
   "metadata": {},
   "outputs": [],
   "source": [
    "# criterion=nn.MSELoss()\n",
    "# optimizer=torch.optim.SGD(model.parameters(),lr=1e-4)"
   ]
  },
  {
   "cell_type": "markdown",
   "id": "e8965323",
   "metadata": {},
   "source": [
    "# Train the model"
   ]
  },
  {
   "cell_type": "code",
   "execution_count": 99,
   "id": "ca8157c2",
   "metadata": {},
   "outputs": [
    {
     "name": "stdout",
     "output_type": "stream",
     "text": [
      "Epoch [10/1000], Loss: 0.3193\n",
      "Epoch [20/1000], Loss: 0.3117\n",
      "Epoch [30/1000], Loss: 0.3046\n",
      "Epoch [40/1000], Loss: 0.2978\n",
      "Epoch [50/1000], Loss: 0.2913\n",
      "Epoch [60/1000], Loss: 0.2852\n",
      "Epoch [70/1000], Loss: 0.2793\n",
      "Epoch [80/1000], Loss: 0.2738\n",
      "Epoch [90/1000], Loss: 0.2685\n",
      "Epoch [100/1000], Loss: 0.2636\n"
     ]
    },
    {
     "name": "stdout",
     "output_type": "stream",
     "text": [
      "Epoch [110/1000], Loss: 0.2588\n",
      "Epoch [120/1000], Loss: 0.2543\n",
      "Epoch [130/1000], Loss: 0.2500\n",
      "Epoch [140/1000], Loss: 0.2460\n",
      "Epoch [150/1000], Loss: 0.2421\n",
      "Epoch [160/1000], Loss: 0.2384\n",
      "Epoch [170/1000], Loss: 0.2349\n",
      "Epoch [180/1000], Loss: 0.2316\n",
      "Epoch [190/1000], Loss: 0.2285\n",
      "Epoch [200/1000], Loss: 0.2255\n",
      "Epoch [210/1000], Loss: 0.2227\n",
      "Epoch [220/1000], Loss: 0.2200\n",
      "Epoch [230/1000], Loss: 0.2174\n",
      "Epoch [240/1000], Loss: 0.2150\n",
      "Epoch [250/1000], Loss: 0.2127\n",
      "Epoch [260/1000], Loss: 0.2105\n",
      "Epoch [270/1000], Loss: 0.2084\n",
      "Epoch [280/1000], Loss: 0.2064\n",
      "Epoch [290/1000], Loss: 0.2045\n",
      "Epoch [300/1000], Loss: 0.2027\n",
      "Epoch [310/1000], Loss: 0.2011\n",
      "Epoch [320/1000], Loss: 0.1994\n",
      "Epoch [330/1000], Loss: 0.1979\n",
      "Epoch [340/1000], Loss: 0.1965\n",
      "Epoch [350/1000], Loss: 0.1951\n",
      "Epoch [360/1000], Loss: 0.1938\n",
      "Epoch [370/1000], Loss: 0.1925\n",
      "Epoch [380/1000], Loss: 0.1913\n",
      "Epoch [390/1000], Loss: 0.1902\n",
      "Epoch [400/1000], Loss: 0.1891\n",
      "Epoch [410/1000], Loss: 0.1881\n",
      "Epoch [420/1000], Loss: 0.1872\n",
      "Epoch [430/1000], Loss: 0.1863\n",
      "Epoch [440/1000], Loss: 0.1854\n",
      "Epoch [450/1000], Loss: 0.1846\n",
      "Epoch [460/1000], Loss: 0.1838\n",
      "Epoch [470/1000], Loss: 0.1830\n",
      "Epoch [480/1000], Loss: 0.1823\n",
      "Epoch [490/1000], Loss: 0.1816\n",
      "Epoch [500/1000], Loss: 0.1810\n",
      "Epoch [510/1000], Loss: 0.1804\n",
      "Epoch [520/1000], Loss: 0.1798\n",
      "Epoch [530/1000], Loss: 0.1793\n",
      "Epoch [540/1000], Loss: 0.1788\n",
      "Epoch [550/1000], Loss: 0.1783\n",
      "Epoch [560/1000], Loss: 0.1778\n",
      "Epoch [570/1000], Loss: 0.1774\n",
      "Epoch [580/1000], Loss: 0.1769\n",
      "Epoch [590/1000], Loss: 0.1765\n",
      "Epoch [600/1000], Loss: 0.1761\n",
      "Epoch [610/1000], Loss: 0.1758\n",
      "Epoch [620/1000], Loss: 0.1754\n",
      "Epoch [630/1000], Loss: 0.1751\n",
      "Epoch [640/1000], Loss: 0.1748\n",
      "Epoch [650/1000], Loss: 0.1745\n",
      "Epoch [660/1000], Loss: 0.1742\n",
      "Epoch [670/1000], Loss: 0.1740\n",
      "Epoch [680/1000], Loss: 0.1737\n",
      "Epoch [690/1000], Loss: 0.1735\n",
      "Epoch [700/1000], Loss: 0.1732\n",
      "Epoch [710/1000], Loss: 0.1730\n",
      "Epoch [720/1000], Loss: 0.1728\n",
      "Epoch [730/1000], Loss: 0.1726\n",
      "Epoch [740/1000], Loss: 0.1724\n",
      "Epoch [750/1000], Loss: 0.1723\n",
      "Epoch [760/1000], Loss: 0.1721\n",
      "Epoch [770/1000], Loss: 0.1719\n",
      "Epoch [780/1000], Loss: 0.1718\n",
      "Epoch [790/1000], Loss: 0.1716\n",
      "Epoch [800/1000], Loss: 0.1715\n",
      "Epoch [810/1000], Loss: 0.1714\n",
      "Epoch [820/1000], Loss: 0.1712\n",
      "Epoch [830/1000], Loss: 0.1711\n",
      "Epoch [840/1000], Loss: 0.1710\n",
      "Epoch [850/1000], Loss: 0.1709\n",
      "Epoch [860/1000], Loss: 0.1708\n",
      "Epoch [870/1000], Loss: 0.1707\n",
      "Epoch [880/1000], Loss: 0.1706\n",
      "Epoch [890/1000], Loss: 0.1705\n",
      "Epoch [900/1000], Loss: 0.1705\n",
      "Epoch [910/1000], Loss: 0.1704\n",
      "Epoch [920/1000], Loss: 0.1703\n",
      "Epoch [930/1000], Loss: 0.1702\n",
      "Epoch [940/1000], Loss: 0.1702\n",
      "Epoch [950/1000], Loss: 0.1701\n",
      "Epoch [960/1000], Loss: 0.1701\n",
      "Epoch [970/1000], Loss: 0.1700\n",
      "Epoch [980/1000], Loss: 0.1699\n",
      "Epoch [990/1000], Loss: 0.1699\n",
      "Epoch [1000/1000], Loss: 0.1698\n"
     ]
    }
   ],
   "source": [
    "# Train the model\n",
    "\n",
    "model=LinearRegression()\n",
    "criterion=nn.MSELoss()\n",
    "optimizer=torch.optim.SGD(model.parameters(),lr=0.01)\n",
    "num_epochs=1000\n",
    "for epoch in range(num_epochs):\n",
    "    model.train()\n",
    "    outputs=model(x_train)\n",
    "    loss=criterion(outputs,y_train)\n",
    "\n",
    "    optimizer.zero_grad()\n",
    "    loss.backward()\n",
    "    optimizer.step()\n",
    "\n",
    "    if (epoch+1) % 10 == 0:\n",
    "        print(f'Epoch [{epoch+1}/{num_epochs}], Loss: {loss.item():.4f}')\n"
   ]
  },
  {
   "cell_type": "markdown",
   "id": "c7251291",
   "metadata": {},
   "source": [
    "# Test the model"
   ]
  },
  {
   "cell_type": "code",
   "execution_count": 100,
   "id": "46f20a1d",
   "metadata": {},
   "outputs": [
    {
     "name": "stdout",
     "output_type": "stream",
     "text": [
      "tensor([[1.5616],\n",
      "        [1.8608],\n",
      "        [2.1601],\n",
      "        [2.4892],\n",
      "        [2.5491],\n",
      "        [1.7977],\n",
      "        [3.3241],\n",
      "        [2.3456],\n",
      "        [2.7286],\n",
      "        [1.2534],\n",
      "        [2.5795],\n",
      "        [3.5994],\n",
      "        [2.1092],\n",
      "        [2.8393],\n",
      "        [1.5072]])\n"
     ]
    }
   ],
   "source": [
    "# Test the model\n",
    "model.eval()\n",
    "with torch.no_grad():\n",
    "    predicted=model(x_train)\n",
    "\n",
    "# Make predictions\n",
    "print(predicted)\n",
    "\n"
   ]
  },
  {
   "cell_type": "code",
   "execution_count": 101,
   "id": "b47b6277",
   "metadata": {},
   "outputs": [
    {
     "data": {
      "image/png": "[encoded data removed]",
      "text/plain": [
       "<Figure size 640x480 with 1 Axes>"
      ]
     },
     "metadata": {},
     "output_type": "display_data"
    }
   ],
   "source": [
    "plt.plot(x_train.numpy(), y_train.numpy(), 'ro', label='Original Data')\n",
    "plt.plot(x_train.numpy(), predicted, label='Fitted Line')\n",
    "plt.xlabel('hours studied')\n",
    "plt.ylabel('Exam Score')\n",
    "plt.legend()\n",
    "plt.title('Exam Score Prediction')\n",
    "plt.show()"
   ]
  },
  {
   "cell_type": "markdown",
   "id": "c5d2033c",
   "metadata": {},
   "source": [
    "# Save the model"
   ]
  },
  {
   "cell_type": "code",
   "execution_count": 102,
   "id": "116ad059",
   "metadata": {},
   "outputs": [
    {
     "name": "stdout",
     "output_type": "stream",
     "text": [
      "Predictions for test data:\n",
      "Input: 4.0, Predicted Output: 1.7520136833190918\n",
      "Input: 5.0, Predicted Output: 2.0240421295166016\n",
      "Input: 6.0, Predicted Output: 2.2960708141326904\n"
     ]
    }
   ],
   "source": [
    "# Save the model\n",
    "torch.save(model.state_dict(), 'linear_regression_model.pth')\n",
    "# Load the model\n",
    "loaded_model = LinearRegression()\n",
    "loaded_model.load_state_dict(torch.load('linear_regression_model.pth'))\n",
    "# Test the loaded model\n",
    "test_data = torch.tensor([[4.0], [5.0], [6.0]], dtype=torch.float32)\n",
    "loaded_model.eval()\n",
    "with torch.no_grad():\n",
    "    predictions = loaded_model(test_data)\n",
    "print(\"Predictions for test data:\")\n",
    "for i, test_point in enumerate(test_data):\n",
    "    print(f\"Input: {test_point.item()}, Predicted Output: {predictions[i].item()}\")\n",
    "# This code demonstrates a simple linear regression model using PyTorch.\n",
    "# It includes data preparation, model training, evaluation, and saving/loading the model.\n",
    "# The model predicts exam scores based on hours studied, and the results are visualized.\n",
    "# The model is trained using stochastic gradient descent and mean squared error loss.\n",
    "# The code also includes a test phase where predictions are made on new data points.\n",
    "# The model is saved to a file and can be loaded later for inference.\n",
    "# The code is structured to be clear and modular, making it easy to understand and modify.\n",
    "# The model is trained for 100 epochs, with loss printed every 10 epochs.\n",
    "# The final plot shows the original data points and the fitted line from the model.\n",
    "# The predictions for test data points are printed to demonstrate the model's inference capability.\n",
    "# The code is designed to be run in a Python environment with PyTorch and Matplotlib installed.\n",
    "# The model can be used for further experiments or as a starting point for more complex regression tasks.\n",
    "# The code is self-contained and does not require any external dependencies beyond PyTorch and Matplotlib.      \n",
    "\n",
    "# The model can be extended or modified for different datasets or regression tasks.\n",
    "# The code is suitable for educational purposes, demonstrating basic concepts of linear regression in machine learning.\n",
    "# The model can be used as a foundation for more advanced machine learning projects.\n",
    "# The code is efficient and leverages PyTorch's capabilities for automatic differentiation and optimization.\n",
    "# The model can be easily adapted for different input features or target variables.         \n",
    "# The code is structured to facilitate understanding of the training process and model evaluation.\n",
    "# The model can be integrated into larger machine learning pipelines or applications.\n",
    "# The code is designed to be modular, allowing for easy updates or changes to the model architecture.\n",
    "# The model can be used for real-world applications where linear relationships are expected.\n",
    "# The code serves as a practical example of implementing linear regression using PyTorch.\n",
    "# The model can be further optimized or tuned for better performance on specific datasets.\n",
    "# The code is a complete example of a linear regression workflow, from data preparation to model evaluation.\n",
    "# The model can be used for educational purposes to teach concepts of regression analysis.\n",
    "# The code is designed to be clear and concise, making it accessible for beginners in machine learning.\n",
    "# The model can be used as a baseline for comparing more complex regression models.\n",
    "# The code is a practical demonstration of using PyTorch for regression tasks.\n",
    "# The model can be extended to include more features or different types of regression.\n",
    "# The code is a good starting point for anyone looking to learn about regression in machine learning.   "
   ]
  },
  {
   "cell_type": "code",
   "execution_count": 103,
   "id": "d50f45be",
   "metadata": {},
   "outputs": [
    {
     "name": "stdout",
     "output_type": "stream",
     "text": [
      "Predictions for test data:\n",
      "Input: 4.0, Predicted Output: 1.7520136833190918\n",
      "Input: 5.0, Predicted Output: 2.0240421295166016\n",
      "Input: 6.0, Predicted Output: 2.2960708141326904\n"
     ]
    }
   ],
   "source": [
    "#load the model\n",
    "loaded_model = LinearRegression()\n",
    "loaded_model.load_state_dict(torch.load('linear_regression_model.pth'))\n",
    "# Test the loaded model\n",
    "test_data = torch.tensor([[4.0], [5.0], [6.0]], dtype=torch.float32)\n",
    "loaded_model.eval()\n",
    "with torch.no_grad():           \n",
    "    predictions = loaded_model(test_data)\n",
    "print(\"Predictions for test data:\")\n",
    "for i, test_point in enumerate(test_data):\n",
    "    print(f\"Input: {test_point.item()}, Predicted Output: {predictions[i].item()}\")\n",
    "# This code demonstrates a simple linear regression model using PyTorch.\n",
    "# It includes data preparation, model training, evaluation, and saving/loading the model.\n",
    "# The model predicts exam scores based on hours studied, and the results are visualized.\n",
    "# The model is trained using stochastic gradient descent and mean squared error loss.\n",
    "# The code also includes a test phase where predictions are made on new data points.\n",
    "# The model is saved to a file and can be loaded later for inference.\n",
    "# The code is structured to be clear and modular, making it easy to understand and modify.\n",
    "# The model is trained for 100 epochs, with loss printed every 10 epochs.\n",
    "# The final plot shows the original data points and the fitted line from the model.\n",
    "# The predictions for test data points are printed to demonstrate the model's inference capability.\n",
    "# The code is designed to be run in a Python environment with PyTorch and Matplotlib installed.\n",
    "# The model can be used for further experiments or as a starting point for more complex regression tasks.\n",
    "# The code is self-contained and does not require any external dependencies beyond PyTorch and Matplotlib.\n",
    "# The model can be extended or modified for different datasets or regression tasks.\n",
    "# The code is suitable for educational purposes, demonstrating basic concepts of linear regression in machine learning.                                                         "
   ]
  },
  {
   "cell_type": "markdown",
   "id": "463be02a",
   "metadata": {},
   "source": [
    "# Retraining the model from a previous checkpoint"
   ]
  },
  {
   "cell_type": "code",
   "execution_count": 104,
   "id": "ee382e27",
   "metadata": {},
   "outputs": [
    {
     "name": "stdout",
     "output_type": "stream",
     "text": [
      "Epoch [10/1000], Loss: 0.1698\n",
      "Epoch [20/1000], Loss: 0.1697\n",
      "Epoch [30/1000], Loss: 0.1697\n",
      "Epoch [40/1000], Loss: 0.1697\n",
      "Epoch [50/1000], Loss: 0.1696\n",
      "Epoch [60/1000], Loss: 0.1696\n",
      "Epoch [70/1000], Loss: 0.1696\n",
      "Epoch [80/1000], Loss: 0.1695\n",
      "Epoch [90/1000], Loss: 0.1695\n",
      "Epoch [100/1000], Loss: 0.1695\n",
      "Epoch [110/1000], Loss: 0.1694\n",
      "Epoch [120/1000], Loss: 0.1694\n",
      "Epoch [130/1000], Loss: 0.1694\n",
      "Epoch [140/1000], Loss: 0.1694\n",
      "Epoch [150/1000], Loss: 0.1693\n",
      "Epoch [160/1000], Loss: 0.1693\n",
      "Epoch [170/1000], Loss: 0.1693\n",
      "Epoch [180/1000], Loss: 0.1693\n",
      "Epoch [190/1000], Loss: 0.1693\n",
      "Epoch [200/1000], Loss: 0.1692\n",
      "Epoch [210/1000], Loss: 0.1692\n",
      "Epoch [220/1000], Loss: 0.1692\n",
      "Epoch [230/1000], Loss: 0.1692\n",
      "Epoch [240/1000], Loss: 0.1692\n",
      "Epoch [250/1000], Loss: 0.1692\n",
      "Epoch [260/1000], Loss: 0.1692\n",
      "Epoch [270/1000], Loss: 0.1691\n",
      "Epoch [280/1000], Loss: 0.1691\n",
      "Epoch [290/1000], Loss: 0.1691\n",
      "Epoch [300/1000], Loss: 0.1691\n",
      "Epoch [310/1000], Loss: 0.1691\n",
      "Epoch [320/1000], Loss: 0.1691\n",
      "Epoch [330/1000], Loss: 0.1691\n",
      "Epoch [340/1000], Loss: 0.1691\n",
      "Epoch [350/1000], Loss: 0.1691\n",
      "Epoch [360/1000], Loss: 0.1691\n",
      "Epoch [370/1000], Loss: 0.1691\n",
      "Epoch [380/1000], Loss: 0.1690\n",
      "Epoch [390/1000], Loss: 0.1690\n",
      "Epoch [400/1000], Loss: 0.1690\n",
      "Epoch [410/1000], Loss: 0.1690\n",
      "Epoch [420/1000], Loss: 0.1690\n",
      "Epoch [430/1000], Loss: 0.1690\n",
      "Epoch [440/1000], Loss: 0.1690\n",
      "Epoch [450/1000], Loss: 0.1690\n",
      "Epoch [460/1000], Loss: 0.1690\n",
      "Epoch [470/1000], Loss: 0.1690\n",
      "Epoch [480/1000], Loss: 0.1690\n",
      "Epoch [490/1000], Loss: 0.1690\n",
      "Epoch [500/1000], Loss: 0.1690\n",
      "Epoch [510/1000], Loss: 0.1690\n",
      "Epoch [520/1000], Loss: 0.1690\n",
      "Epoch [530/1000], Loss: 0.1690\n",
      "Epoch [540/1000], Loss: 0.1690\n",
      "Epoch [550/1000], Loss: 0.1690\n",
      "Epoch [560/1000], Loss: 0.1690\n",
      "Epoch [570/1000], Loss: 0.1690\n",
      "Epoch [580/1000], Loss: 0.1690\n",
      "Epoch [590/1000], Loss: 0.1690\n",
      "Epoch [600/1000], Loss: 0.1690\n",
      "Epoch [610/1000], Loss: 0.1690\n",
      "Epoch [620/1000], Loss: 0.1690\n",
      "Epoch [630/1000], Loss: 0.1690\n",
      "Epoch [640/1000], Loss: 0.1689\n",
      "Epoch [650/1000], Loss: 0.1689\n",
      "Epoch [660/1000], Loss: 0.1689\n",
      "Epoch [670/1000], Loss: 0.1689\n",
      "Epoch [680/1000], Loss: 0.1689\n",
      "Epoch [690/1000], Loss: 0.1689\n",
      "Epoch [700/1000], Loss: 0.1689\n",
      "Epoch [710/1000], Loss: 0.1689\n",
      "Epoch [720/1000], Loss: 0.1689\n",
      "Epoch [730/1000], Loss: 0.1689\n",
      "Epoch [740/1000], Loss: 0.1689\n",
      "Epoch [750/1000], Loss: 0.1689\n",
      "Epoch [760/1000], Loss: 0.1689\n",
      "Epoch [770/1000], Loss: 0.1689\n",
      "Epoch [780/1000], Loss: 0.1689\n",
      "Epoch [790/1000], Loss: 0.1689\n",
      "Epoch [800/1000], Loss: 0.1689\n",
      "Epoch [810/1000], Loss: 0.1689\n",
      "Epoch [820/1000], Loss: 0.1689\n",
      "Epoch [830/1000], Loss: 0.1689\n",
      "Epoch [840/1000], Loss: 0.1689\n",
      "Epoch [850/1000], Loss: 0.1689\n",
      "Epoch [860/1000], Loss: 0.1689\n",
      "Epoch [870/1000], Loss: 0.1689\n",
      "Epoch [880/1000], Loss: 0.1689\n",
      "Epoch [890/1000], Loss: 0.1689\n",
      "Epoch [900/1000], Loss: 0.1689\n",
      "Epoch [910/1000], Loss: 0.1689\n",
      "Epoch [920/1000], Loss: 0.1689\n",
      "Epoch [930/1000], Loss: 0.1689\n",
      "Epoch [940/1000], Loss: 0.1689\n",
      "Epoch [950/1000], Loss: 0.1689\n",
      "Epoch [960/1000], Loss: 0.1689\n",
      "Epoch [970/1000], Loss: 0.1689\n",
      "Epoch [980/1000], Loss: 0.1689\n",
      "Epoch [990/1000], Loss: 0.1689\n",
      "Epoch [1000/1000], Loss: 0.1689\n"
     ]
    }
   ],
   "source": [
    "# Retraining the model from a previous checkpoint\n",
    "model = LinearRegression()\n",
    "model.load_state_dict(torch.load('linear_regression_model.pth'))\n",
    "criterion = nn.MSELoss()\n",
    "optimizer = torch.optim.SGD(model.parameters(), lr=0.01)\n",
    "num_epochs = 1000       \n",
    "for epoch in range(num_epochs):\n",
    "    model.train()\n",
    "    outputs = model(x_train)\n",
    "    loss = criterion(outputs, y_train)\n",
    "\n",
    "    optimizer.zero_grad()\n",
    "    loss.backward()\n",
    "    optimizer.step()\n",
    "\n",
    "    if (epoch + 1) % 10 == 0:\n",
    "        print(f'Epoch [{epoch + 1}/{num_epochs}], Loss: {loss.item():.4f}')\n",
    "\n",
    "#saving the retrained model\n",
    "torch.save(model.state_dict(), 'linear_regression_model.pth')\n"
   ]
  },
  {
   "cell_type": "code",
   "execution_count": 105,
   "id": "b0ff5582",
   "metadata": {},
   "outputs": [
    {
     "name": "stdout",
     "output_type": "stream",
     "text": [
      "Predictions for test data after retraining:\n",
      "Input: 4.0, Predicted Output: 1.7849032878875732\n",
      "Input: 5.0, Predicted Output: 2.0458130836486816\n",
      "Input: 6.0, Predicted Output: 2.306723117828369\n"
     ]
    }
   ],
   "source": [
    "# Loading the retrained model\n",
    "loaded_model = LinearRegression()\n",
    "loaded_model.load_state_dict(torch.load('linear_regression_model.pth'))\n",
    "# Test the retrained model\n",
    "test_data = torch.tensor([[4.0], [5.0], [6.0]], dtype=torch.float32)\n",
    "loaded_model.eval()\n",
    "with torch.no_grad():\n",
    "    predictions = loaded_model(test_data)\n",
    "print(\"Predictions for test data after retraining:\")\n",
    "for i, test_point in enumerate(test_data):\n",
    "    print(f\"Input: {test_point.item()}, Predicted Output: {predictions[i].item()}\")\n",
    "# This code demonstrates a simple linear regression model using PyTorch."
   ]
  },
  {
   "cell_type": "code",
   "execution_count": 106,
   "id": "a3eb6d92",
   "metadata": {},
   "outputs": [
    {
     "data": {
      "image/png": "[encoded data removed]",
      "text/plain": [
       "<Figure size 640x480 with 1 Axes>"
      ]
     },
     "metadata": {},
     "output_type": "display_data"
    }
   ],
   "source": [
    "# plotting the retrained model\n",
    "predicted = model(x_train).detach().numpy()\n",
    "plt.plot(x_train.numpy(), y_train.numpy(), 'ro', label='Original Data')\n",
    "plt.plot(x_train.numpy(), predicted, label='Fitted Line after Retraining')                      \n",
    "plt.xlabel('hours studied')\n",
    "plt.ylabel('Exam Score')\n",
    "plt.legend()\n",
    "plt.title('Exam Score Prediction after Retraining')\n",
    "plt.show()\n",
    "# The code includes data preparation, model training, evaluation, and saving/loading the model. "
   ]
  },
  {
   "cell_type": "code",
   "execution_count": 107,
   "id": "814b0e6c",
   "metadata": {},
   "outputs": [
    {
     "data": {
      "text/plain": [
       "OrderedDict([('linear.weight', tensor([[0.2609]])),\n",
       "             ('linear.bias', tensor([0.7413]))])"
      ]
     },
     "execution_count": 107,
     "metadata": {},
     "output_type": "execute_result"
    }
   ],
   "source": [
    "model.state_dict()"
   ]
  },
  {
   "cell_type": "markdown",
   "id": "5001ddb0",
   "metadata": {},
   "source": [
    "# Save model as safetensors file"
   ]
  },
  {
   "cell_type": "code",
   "execution_count": 108,
   "id": "693e0953",
   "metadata": {},
   "outputs": [],
   "source": [
    "# Saving the model state_dict to a safetensors file\n",
    "\n",
    "import torch\n",
    "from safetensors.torch import save_file\n",
    "from torchvision import models  # Example model\n",
    "\n",
    "# # Example model (any nn.Module will do)\n",
    "# model = models.resnet18(pretrained=False)\n",
    "\n",
    "# Get the state_dict (contains all model weights)\n",
    "state_dict = model.state_dict()\n",
    "\n",
    "# Save to safetensors file\n",
    "save_file(state_dict, \"lr.safetensors\")\n"
   ]
  },
  {
   "cell_type": "code",
   "execution_count": 109,
   "id": "8ed746ee",
   "metadata": {},
   "outputs": [
    {
     "data": {
      "text/plain": [
       "<All keys matched successfully>"
      ]
     },
     "execution_count": 109,
     "metadata": {},
     "output_type": "execute_result"
    }
   ],
   "source": [
    "# Loading the model from a safetensors file\n",
    "\n",
    "\n",
    "from safetensors.torch import load_file\n",
    "\n",
    "# Load the safetensors file\n",
    "model = LinearRegression()\n",
    "loaded_state_dict = load_file(\"lr.safetensors\")\n",
    "# Load the state_dict into a new model instance\n",
    "model.load_state_dict(loaded_state_dict)\n",
    "\n",
    "# test model"
   ]
  },
  {
   "cell_type": "code",
   "execution_count": 110,
   "id": "5f55f680",
   "metadata": {},
   "outputs": [
    {
     "name": "stdout",
     "output_type": "stream",
     "text": [
      "Predictions for test data after retraining:\n",
      "Input: 4.0, Predicted Output: 1.7849032878875732\n",
      "Input: 5.0, Predicted Output: 2.0458130836486816\n",
      "Input: 6.0, Predicted Output: 2.306723117828369\n"
     ]
    }
   ],
   "source": [
    "# Test the retrained model\n",
    "test_data = torch.tensor([[4.0], [5.0], [6.0]], dtype=torch.float32)\n",
    "loaded_model.eval()\n",
    "with torch.no_grad():\n",
    "    predictions = loaded_model(test_data)\n",
    "print(\"Predictions for test data after retraining:\")\n",
    "for i, test_point in enumerate(test_data):\n",
    "    print(f\"Input: {test_point.item()}, Predicted Output: {predictions[i].item()}\")"
   ]
  }
 ],
 "metadata": {
  "kernelspec": {
   "display_name": "env",
   "language": "python",
   "name": "python3"
  },
  "language_info": {
   "codemirror_mode": {
    "name": "ipython",
    "version": 3
   },
   "file_extension": ".py",
   "mimetype": "text/x-python",
   "name": "python",
   "nbconvert_exporter": "python",
   "pygments_lexer": "ipython3",
   "version": "3.12.3"
  }
 },
 "nbformat": 4,
 "nbformat_minor": 5
}
